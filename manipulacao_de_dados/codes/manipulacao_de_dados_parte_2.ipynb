{
 "cells": [
  {
   "cell_type": "markdown",
   "metadata": {},
   "source": [
    "# Manipulação de Dados - Parte 2"
   ]
  },
  {
   "cell_type": "markdown",
   "metadata": {},
   "source": [
    "Algumas referências:\n",
    "- https://www.youtube.com/watch?v=_I2GrxUGNQc\n",
    "- https://www.youtube.com/watch?v=ZxV-kf0yBss\n",
    "- Bruce et al., Practical Statistics for Data Scientists (2020), 2nd edition (Chap. 1)"
   ]
  },
  {
   "cell_type": "markdown",
   "metadata": {},
   "source": [
    "## Tipos de Dados (Variáveis)"
   ]
  },
  {
   "cell_type": "markdown",
   "metadata": {},
   "source": [
    "<img src=\"imagens/tipos_de_dados.png\" style=\"width: 75%;\"/>"
   ]
  },
  {
   "cell_type": "markdown",
   "metadata": {},
   "source": [
    "### Quais são os tipos de dados para as seguintes variáveis?\n",
    "\n",
    "- Doença (Sim / Não): **Categórica Nominal**\n",
    "- Volume (mm3): **Numérico contínuo**\n",
    "- Classificação do campeonato (1°, 2°, 3°, ...): **Categórico ordinal**\n",
    "- Sexo (Masculino, Feminino): **Categórico Nominal**\n",
    "- Número de alunos: **Númerico Discreto**\n",
    "- País de Nascimento: **Categórico Nominal**\n",
    "- Energia elétrica consumida: **Numérico Contínuo**\n",
    "- Escolaridade: (Fundamental, Médio, Superior): **Cartegórica Ordinal**"
   ]
  },
  {
   "cell_type": "markdown",
   "metadata": {},
   "source": [
    "- Notas (A, B, C, D, E, F): **Categórica Ordinal**\n",
    "- Notas (0 a 5 variando, apenas, em 0.5): **Númerico discreto** _(mesmo sendo números decimais. MAS, pode não ser bem assim ==> veja outro exemplo logo abaixo)_\n",
    "- Notas (0 a 10, qualquer variação): **Númerico Contínuo**"
   ]
  },
  {
   "cell_type": "markdown",
   "metadata": {},
   "source": [
    "- Preço de um imóvel: **_\"Numérico Contínuo\"\"_**.\n",
    "\n",
    "Às vezes, **variáveis discretas** podem ser tratadas como **contínuas**.<br>\n",
    "O _dinheiro_ ou o _preço_ de algo varia em passos de _1 centavo_, então é uma **variável discreta**. <br>\n",
    "Porém, se você está lidando com _centenas de Reais_, os passos são **_tão pequenos_** que ele pode ser tratado como uma **variável contínua**.\n",
    "\n",
    "Referência: [link](https://www.pearsonschoolsandfecolleges.co.uk/secondary/Mathematics/16plus/AdvancingMathsForAQA2ndEdition/Samples/SampleMaterial/S1chapter1.pdf)"
   ]
  },
  {
   "cell_type": "markdown",
   "metadata": {},
   "source": [
    "### Variáveis categóricas representadas com números\n",
    "Às vezes, **variáveis categóricas** pode ser representadas com **números**. Entretanto, tais números não ter valor _\"númerico\"_, no sentido que, não faz sentido você utilizar tais números em operações como, soma, subtração, etc.\n",
    "\n",
    "**Ex 1) Escala de Satisfação de um atendimento**:\n",
    "- 0: Péssimo\n",
    "- 1: Ruim\n",
    "- 2: Bom\n",
    "- 3: Excelente\n",
    "\n",
    "Os números da escala não tem um valor _algébrico_. Um atendimento Ruim (1) + uma atendimento Bom (2) não dá um atendimento Excelente (3). <br>\n",
    "Os números são utilizados, neste caso, como uma _orientação_ ou apenas como um _identificador_."
   ]
  },
  {
   "cell_type": "markdown",
   "metadata": {},
   "source": [
    "**Ex 2)** Poderíamos representar a escolaridade com números: _1° grau (1), 2° grau (2)_ e _3° grau (3)_. <br/>\n",
    "Porém, não dá (e nem faz sentido) somarmos tais valores. <br/>\n",
    "P. ex, uma pessoa que tem o 1° e 2° grau não tem, por consequência, o 3° grau (1 + 2)."
   ]
  },
  {
   "cell_type": "markdown",
   "metadata": {},
   "source": [
    "**Ex 3)** Outro exemplos são as **notas** dadas para filmes. Suponhas que as notas são: 0.5, 1.0, 1.5, 2.0, 2.5, 3.0, 3.5, 4.0, 4.5, 5.0 <br>\n",
    "Um filme nota 4.0 **pode não ser, necessariamente**, _2 vezes melhor_ do que um filme nota 2.0. <br/>\n",
    "Tal escala de valor, pode não expressar, exatamente, a magnitude da diferença entre a qualidade de dois filmes."
   ]
  },
  {
   "cell_type": "markdown",
   "metadata": {},
   "source": [
    "## Mão na massa!\n",
    "- Faça download do dataset [TMDB 5000 Movie Dataset](https://www.kaggle.com/tmdb/tmdb-movie-metadata)"
   ]
  },
  {
   "cell_type": "markdown",
   "metadata": {},
   "source": [
    "#### Tabela de Frequências"
   ]
  },
  {
   "cell_type": "code",
   "execution_count": null,
   "metadata": {},
   "outputs": [],
   "source": []
  },
  {
   "cell_type": "markdown",
   "metadata": {},
   "source": [
    "#### Visualizando as categorias"
   ]
  },
  {
   "cell_type": "markdown",
   "metadata": {},
   "source": [
    "##### Gráfico de barras"
   ]
  },
  {
   "cell_type": "code",
   "execution_count": null,
   "metadata": {},
   "outputs": [],
   "source": []
  },
  {
   "cell_type": "markdown",
   "metadata": {},
   "source": [
    "##### Gráfico de Pizza (Pie-chart)\n",
    "Não é um gráfico muito indicado, pois é difícil comparar áreas."
   ]
  },
  {
   "cell_type": "code",
   "execution_count": null,
   "metadata": {},
   "outputs": [],
   "source": []
  },
  {
   "cell_type": "markdown",
   "metadata": {},
   "source": [
    "### Melhorando as visualizações"
   ]
  },
  {
   "cell_type": "code",
   "execution_count": null,
   "metadata": {},
   "outputs": [],
   "source": []
  },
  {
   "cell_type": "markdown",
   "metadata": {},
   "source": [
    "### Analisando filmes cujo idioma não é inglês"
   ]
  },
  {
   "cell_type": "code",
   "execution_count": null,
   "metadata": {},
   "outputs": [],
   "source": []
  },
  {
   "cell_type": "markdown",
   "metadata": {},
   "source": [
    "#### Seaborn palletes\n",
    "https://seaborn.pydata.org/tutorial/color_palettes.html"
   ]
  }
 ],
 "metadata": {
  "kernelspec": {
   "display_name": "Python 3.7.3 64-bit ('yeah': virtualenv)",
   "language": "python",
   "name": "python37364bityeahvirtualenv41b95d149b904b48a1741f344d38907c"
  },
  "language_info": {
   "codemirror_mode": {
    "name": "ipython",
    "version": 3
   },
   "file_extension": ".py",
   "mimetype": "text/x-python",
   "name": "python",
   "nbconvert_exporter": "python",
   "pygments_lexer": "ipython3",
   "version": "3.9.0"
  }
 },
 "nbformat": 4,
 "nbformat_minor": 4
}
