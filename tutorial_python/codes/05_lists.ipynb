{
 "cells": [
  {
   "cell_type": "markdown",
   "metadata": {},
   "source": [
    "## Lists\n",
    "Listas em Python representam uma **sequência de elementos _ordenados_**."
   ]
  },
  {
   "cell_type": "code",
   "execution_count": 1,
   "metadata": {},
   "outputs": [
    {
     "data": {
      "text/plain": [
       "[20, 11, 99, 5, 44, 88]"
      ]
     },
     "execution_count": 1,
     "metadata": {},
     "output_type": "execute_result"
    }
   ],
   "source": [
    "numeros_da_mega_sena = [20, 11, 99, 5, 44, 88]\n",
    "numeros_da_mega_sena"
   ]
  },
  {
   "cell_type": "markdown",
   "metadata": {},
   "source": [
    "A **ordenação** dos elementos refere-se a seus _posicionamentos_ na lista, ou seja, o primeiro elemento da lista é o 20, o segundo é o 11, e assim por diante. <br/>\n",
    "A **ordem** dos valores/conteúdos é outra coisa."
   ]
  },
  {
   "cell_type": "markdown",
   "metadata": {},
   "source": [
    "#### Listas podem ter elementos de _qualquer tipo_:"
   ]
  },
  {
   "cell_type": "code",
   "execution_count": 7,
   "metadata": {},
   "outputs": [
    {
     "name": "stdout",
     "output_type": "stream",
     "text": [
      "['Mercúrio', 'Vênus', 'Terra', 'Marte', 'Júpiter', 'Saturno', 'Urano', 'Netuno']\n"
     ]
    }
   ],
   "source": [
    "planetas = ['Mercúrio', 'Vênus', 'Terra', 'Marte', 'Júpiter', 'Saturno', 'Urano', 'Netuno']\n",
    "print(planetas)"
   ]
  },
  {
   "cell_type": "markdown",
   "metadata": {},
   "source": [
    "#### Listas podem ter _tipos diferentes_ numa lista:"
   ]
  },
  {
   "cell_type": "code",
   "execution_count": 2,
   "metadata": {},
   "outputs": [
    {
     "data": {
      "text/plain": [
       "['Mercúrio',\n",
       " 'Vênus',\n",
       " 'Terra',\n",
       " 'Marte',\n",
       " 'Júpiter',\n",
       " 'Saturno',\n",
       " 'Urano',\n",
       " 'Netuno',\n",
       " 1,\n",
       " 2,\n",
       " 3]"
      ]
     },
     "execution_count": 2,
     "metadata": {},
     "output_type": "execute_result"
    }
   ],
   "source": [
    "planetas_e_numeros = ['Mercúrio', 'Vênus', 'Terra', 'Marte', 'Júpiter', 'Saturno', 'Urano', 'Netuno', 1, 2, 3]\n",
    "planetas_e_numeros"
   ]
  },
  {
   "cell_type": "markdown",
   "metadata": {},
   "source": [
    "#### Podemos ter listas de listas"
   ]
  },
  {
   "cell_type": "code",
   "execution_count": 3,
   "metadata": {},
   "outputs": [
    {
     "name": "stdout",
     "output_type": "stream",
     "text": [
      "[[1, 2, 3], [4, 5, 6], [7, 8, 9]]\n"
     ]
    }
   ],
   "source": [
    "matriz = [\n",
    "    [1, 2, 3],\n",
    "    [4, 5, 6],\n",
    "    [7, 8, 9]\n",
    "]\n",
    "\n",
    "print(matriz)"
   ]
  },
  {
   "cell_type": "code",
   "execution_count": 5,
   "metadata": {},
   "outputs": [
    {
     "data": {
      "text/plain": [
       "[1, 2, 3]"
      ]
     },
     "execution_count": 5,
     "metadata": {},
     "output_type": "execute_result"
    }
   ],
   "source": [
    "matriz[0]  # retorna a primeira linha da matriz"
   ]
  },
  {
   "cell_type": "code",
   "execution_count": 6,
   "metadata": {},
   "outputs": [
    {
     "data": {
      "text/plain": [
       "3"
      ]
     },
     "execution_count": 6,
     "metadata": {},
     "output_type": "execute_result"
    }
   ],
   "source": [
    "matriz[0][2]"
   ]
  },
  {
   "cell_type": "markdown",
   "metadata": {},
   "source": [
    "### Indexação\n",
    "\n",
    "Cada elemento de uma lista é indexado a uma posição. <br/>\n",
    "Podemos acessar um elemento passando seu índice com []:"
   ]
  },
  {
   "cell_type": "code",
   "execution_count": 9,
   "metadata": {},
   "outputs": [
    {
     "name": "stdout",
     "output_type": "stream",
     "text": [
      "['Mercúrio', 'Vênus', 'Terra', 'Marte', 'Júpiter', 'Saturno', 'Urano', 'Netuno']\n"
     ]
    }
   ],
   "source": [
    "print(planetas)"
   ]
  },
  {
   "cell_type": "code",
   "execution_count": 95,
   "metadata": {},
   "outputs": [
    {
     "data": {
      "text/plain": [
       "'Mercúrio'"
      ]
     },
     "execution_count": 95,
     "metadata": {},
     "output_type": "execute_result"
    }
   ],
   "source": [
    "planetas[0]"
   ]
  },
  {
   "cell_type": "code",
   "execution_count": 96,
   "metadata": {},
   "outputs": [
    {
     "data": {
      "text/plain": [
       "'Terra'"
      ]
     },
     "execution_count": 96,
     "metadata": {},
     "output_type": "execute_result"
    }
   ],
   "source": [
    "planetas[2]"
   ]
  },
  {
   "cell_type": "markdown",
   "metadata": {},
   "source": [
    "Listas em Pythons suporta **índices negativos**, cuja ordem de indexação é o contrário, começando do final para o início:"
   ]
  },
  {
   "cell_type": "code",
   "execution_count": 97,
   "metadata": {},
   "outputs": [
    {
     "data": {
      "text/plain": [
       "'Netuno'"
      ]
     },
     "execution_count": 97,
     "metadata": {},
     "output_type": "execute_result"
    }
   ],
   "source": [
    "planetas[-1] # último elemento da lista"
   ]
  },
  {
   "cell_type": "code",
   "execution_count": 98,
   "metadata": {},
   "outputs": [
    {
     "data": {
      "text/plain": [
       "'Urano'"
      ]
     },
     "execution_count": 98,
     "metadata": {},
     "output_type": "execute_result"
    }
   ],
   "source": [
    "planetas[-2]"
   ]
  },
  {
   "cell_type": "markdown",
   "metadata": {},
   "source": [
    "Podemos também acessar o _último elemento_ da lista desta maneira:"
   ]
  },
  {
   "cell_type": "code",
   "execution_count": 99,
   "metadata": {},
   "outputs": [
    {
     "name": "stdout",
     "output_type": "stream",
     "text": [
      "8\n",
      "Netuno\n"
     ]
    }
   ],
   "source": [
    "print(len(planetas))  # imprime o tamanho da lista\n",
    "print(planetas[len(planetas) - 1])  # imprime o elemento de índice [tamanho da lista - 1]"
   ]
  },
  {
   "cell_type": "markdown",
   "metadata": {},
   "source": [
    "Inline-style: \n",
    "![](exemplo_lista_indices.png)"
   ]
  },
  {
   "cell_type": "markdown",
   "metadata": {},
   "source": [
    "### Slicing (fatiamento)\n",
    "Podemos retornar **uma cópia** dos elementos de um **intervalo contínuo** de uma lista. "
   ]
  },
  {
   "cell_type": "code",
   "execution_count": 100,
   "metadata": {},
   "outputs": [
    {
     "data": {
      "text/plain": [
       "['Mercúrio', 'Vênus', 'Terra']"
      ]
     },
     "execution_count": 100,
     "metadata": {},
     "output_type": "execute_result"
    }
   ],
   "source": [
    "# Quais são os 3 primeiros planetas?\n",
    "planetas[0:3]  # 0:3 ===> intervalo gerado é [0, 3) == [0, 2] == 0, 1, 2"
   ]
  },
  {
   "cell_type": "markdown",
   "metadata": {},
   "source": [
    "`planetas[0:3]` é nosso jeito de consultar os elementos da lista `planetas` do índice 0 até o índice 3 (sem incluí-lo)."
   ]
  },
  {
   "cell_type": "markdown",
   "metadata": {},
   "source": [
    "#### Entendendo os índices de um Intervalo\n",
    "Um intervalo em python sempre **inclui** o número passado como **limite inferior** e *exclui* o número do *limite superior* do intervalo.\n",
    "\n",
    "`[10:15]` são os números do intervalo [10, 15), ou seja, [10, 11, 12, 13, 14]"
   ]
  },
  {
   "cell_type": "markdown",
   "metadata": {},
   "source": [
    "#### De volta ao slicing"
   ]
  },
  {
   "cell_type": "markdown",
   "metadata": {},
   "source": [
    "Os índices iniciais e finais do intervalo do _slicing_ são **opcionais**.\n",
    "\n",
    "Se não informarmos o _índice inicial_, o valor 0 é assumido:"
   ]
  },
  {
   "cell_type": "code",
   "execution_count": 101,
   "metadata": {},
   "outputs": [
    {
     "data": {
      "text/plain": [
       "['Mercúrio', 'Vênus', 'Terra']"
      ]
     },
     "execution_count": 101,
     "metadata": {},
     "output_type": "execute_result"
    }
   ],
   "source": [
    "planetas[:3]"
   ]
  },
  {
   "cell_type": "markdown",
   "metadata": {},
   "source": [
    "Se ignorarmos o _índice final_, é assumido o _tamanho da lista_:"
   ]
  },
  {
   "cell_type": "code",
   "execution_count": 102,
   "metadata": {},
   "outputs": [
    {
     "data": {
      "text/plain": [
       "['Marte', 'Júpiter', 'Saturno', 'Urano', 'Netuno']"
      ]
     },
     "execution_count": 102,
     "metadata": {},
     "output_type": "execute_result"
    }
   ],
   "source": [
    "planetas[3:]  # retorna todos os elementos no intervalo [3, len(planetas) - 1], ou seja, todos os elementos da lista começando no índice 3"
   ]
  },
  {
   "cell_type": "markdown",
   "metadata": {},
   "source": [
    "Podemos também fazer o slicing com **índices negativos**:"
   ]
  },
  {
   "cell_type": "code",
   "execution_count": 103,
   "metadata": {},
   "outputs": [
    {
     "data": {
      "text/plain": [
       "['Vênus', 'Terra', 'Marte', 'Júpiter', 'Saturno', 'Urano']"
      ]
     },
     "execution_count": 103,
     "metadata": {},
     "output_type": "execute_result"
    }
   ],
   "source": [
    "# todos os planetas, exceto o primeiro (índice [0]) e o último (índice [-1] ou [len(planetas) - 1]) planeta/elemento da lista\n",
    "planetas[1:-1]"
   ]
  },
  {
   "cell_type": "markdown",
   "metadata": {},
   "source": [
    "`planetas[1:-1]` considera o intervalo que vai do índice [1], o **incluindo**, até o índice [-1] ou [len(planetas) - 1], no exemplo é o índice [7], o **excluindo**. <br/>\n",
    "Portanto, o intervalo retornado contém os índices [1, 2, 3, 4, 5, 6]."
   ]
  },
  {
   "cell_type": "markdown",
   "metadata": {},
   "source": [
    "<br/>"
   ]
  },
  {
   "cell_type": "markdown",
   "metadata": {},
   "source": [
    "Outro exemplo:"
   ]
  },
  {
   "cell_type": "code",
   "execution_count": 104,
   "metadata": {},
   "outputs": [
    {
     "data": {
      "text/plain": [
       "['Saturno', 'Urano', 'Netuno']"
      ]
     },
     "execution_count": 104,
     "metadata": {},
     "output_type": "execute_result"
    }
   ],
   "source": [
    "# imprime os últimos 3 elementos/planetas da lista\n",
    "planetas[-3:]"
   ]
  },
  {
   "cell_type": "markdown",
   "metadata": {},
   "source": [
    "Vamos entender o intervalo `[-3:]`.\n",
    "\n",
    "O índice `[-3]` corresponde ao índice `[len(planetas) - 3]`, ou seja, o índice `[5]`. <br/>\n",
    "Portanto, `[-3:]` é sinônonimo de `[5:]`.\n",
    "\n",
    "Ao omitir o último índice do intervalo, consideramos por padrão `len(planetas)`, que é 8. <br/>\n",
    "Logo, `[-3:]` é o mesmo que `[5:8]`, que resulta nos índices `[5, 6, 7]`, que são os índices dos 3 últimos elementos dessa lista."
   ]
  },
  {
   "cell_type": "markdown",
   "metadata": {},
   "source": [
    "#### Os elementos retornados pelo Slicing de Listas a uma variável são CÓPIAS"
   ]
  },
  {
   "cell_type": "code",
   "execution_count": 105,
   "metadata": {},
   "outputs": [
    {
     "name": "stdout",
     "output_type": "stream",
     "text": [
      "['Saturno', 'Urano', 'Netuno']\n",
      "['Mercúrio', 'Vênus', 'Terra', 'Marte', 'Júpiter', 'Saturno', 'Urano', 'Netuno']\n",
      "\n",
      "['Brasil', 'Urano', 'Netuno']\n",
      "['Mercúrio', 'Vênus', 'Terra', 'Marte', 'Júpiter', 'Saturno', 'Urano', 'Netuno']\n"
     ]
    }
   ],
   "source": [
    "ultimos_planetas = planetas[-3:]\n",
    "print(ultimos_planetas)\n",
    "print(planetas)\n",
    "print('')\n",
    "\n",
    "ultimos_planetas[0] = 'Brasil'\n",
    "\n",
    "print(ultimos_planetas)\n",
    "print(planetas)"
   ]
  },
  {
   "cell_type": "markdown",
   "metadata": {},
   "source": [
    "#### Alteração de Múltiplos elementos de uma Lista via Slicing"
   ]
  },
  {
   "cell_type": "code",
   "execution_count": 106,
   "metadata": {},
   "outputs": [
    {
     "name": "stdout",
     "output_type": "stream",
     "text": [
      "['Mercúrio', 'Vênus', 'Terra', 'Marte', 'Júpiter', 'Brasil', 'Holanda', 'Itália']\n"
     ]
    }
   ],
   "source": [
    "planetas[-3:] = ['Brasil', 'Holanda', 'Itália']\n",
    "print(planetas)"
   ]
  },
  {
   "cell_type": "markdown",
   "metadata": {},
   "source": [
    "<br/>\n",
    "\n",
    "Se o **número de elementos atribuídos for DIFERENTE do número de elementos do slicing**, os elementos excedentos ou faltantes da lista são ignorados ===> TOME CUIDADO"
   ]
  },
  {
   "cell_type": "code",
   "execution_count": 107,
   "metadata": {},
   "outputs": [
    {
     "name": "stdout",
     "output_type": "stream",
     "text": [
      "['Mercúrio', 'Campinas', 'Júpiter', 'Brasil', 'Holanda', 'Itália']\n"
     ]
    }
   ],
   "source": [
    "planetas[1:4] = ['Campinas']\n",
    "print(planetas)"
   ]
  },
  {
   "cell_type": "markdown",
   "metadata": {},
   "source": [
    "### For-each em Listas\n",
    "Como mostrado no notebook anterior, podemos iterar elementos em uma lista:"
   ]
  },
  {
   "cell_type": "code",
   "execution_count": 10,
   "metadata": {},
   "outputs": [
    {
     "name": "stdout",
     "output_type": "stream",
     "text": [
      "Mercúrio\n",
      "Vênus\n",
      "Terra\n",
      "Marte\n",
      "Júpiter\n",
      "Saturno\n",
      "Urano\n",
      "Netuno\n"
     ]
    }
   ],
   "source": [
    "planetas = ['Mercúrio', 'Vênus', 'Terra', 'Marte', 'Júpiter', 'Saturno', 'Urano', 'Netuno']\n",
    "\n",
    "# para cada planeta da lista de planetas\n",
    "for planeta in planetas:\n",
    "    print(planeta)"
   ]
  },
  {
   "cell_type": "code",
   "execution_count": 11,
   "metadata": {},
   "outputs": [
    {
     "name": "stdout",
     "output_type": "stream",
     "text": [
      "Vênus\n",
      "Terra\n",
      "Marte\n"
     ]
    }
   ],
   "source": [
    "# para cada planeta dos índices de 1 (incluso) a 4 (excluso)\n",
    "for planeta in planetas[1:4]:\n",
    "    print(planeta)"
   ]
  },
  {
   "cell_type": "markdown",
   "metadata": {},
   "source": [
    "No `for`, podemos também recuperar o **índice** e o *elemento* de uma lista, basta usarmos o comando `enumerate`:\n",
    "\n",
    "<code>\n",
    "    for i, elemento in enumerate(lista):\n",
    "        intrução 01\n",
    "        ....\n",
    "</code>"
   ]
  },
  {
   "cell_type": "code",
   "execution_count": 13,
   "metadata": {},
   "outputs": [
    {
     "name": "stdout",
     "output_type": "stream",
     "text": [
      "planetas[0] = Mercúrio = planeta = Mercúrio\n",
      "planetas[1] = Vênus = planeta = Vênus\n",
      "planetas[2] = Terra = planeta = Terra\n",
      "planetas[3] = Marte = planeta = Marte\n",
      "planetas[4] = Júpiter = planeta = Júpiter\n",
      "planetas[5] = Saturno = planeta = Saturno\n",
      "planetas[6] = Urano = planeta = Urano\n",
      "planetas[7] = Netuno = planeta = Netuno\n"
     ]
    }
   ],
   "source": [
    "for i, planeta in enumerate(planetas):\n",
    "    print(f'planetas[{i}] = {planetas[i]} = planeta = {planeta}')"
   ]
  },
  {
   "cell_type": "markdown",
   "metadata": {},
   "source": [
    "for i, planeta in enumerate(planetas):\n",
    "    print(f'planeta[{i}] = {planeta}')"
   ]
  },
  {
   "cell_type": "markdown",
   "metadata": {},
   "source": [
    "### Funções de Listas"
   ]
  },
  {
   "cell_type": "markdown",
   "metadata": {},
   "source": [
    "`len` retorna o tamanho de uma lista (número de elements)"
   ]
  },
  {
   "cell_type": "code",
   "execution_count": 109,
   "metadata": {},
   "outputs": [
    {
     "data": {
      "text/plain": [
       "8"
      ]
     },
     "execution_count": 109,
     "metadata": {},
     "output_type": "execute_result"
    }
   ],
   "source": [
    "len(planetas)"
   ]
  },
  {
   "cell_type": "markdown",
   "metadata": {},
   "source": [
    "`min` retorna o menor elemento de uma lista"
   ]
  },
  {
   "cell_type": "code",
   "execution_count": 110,
   "metadata": {},
   "outputs": [
    {
     "data": {
      "text/plain": [
       "2"
      ]
     },
     "execution_count": 110,
     "metadata": {},
     "output_type": "execute_result"
    }
   ],
   "source": [
    "lista_de_numeros = [10, 5, 20, 2]\n",
    "\n",
    "min(lista_de_numeros)"
   ]
  },
  {
   "cell_type": "markdown",
   "metadata": {},
   "source": [
    "`max` retorna o maior elemento de uma lista"
   ]
  },
  {
   "cell_type": "code",
   "execution_count": 111,
   "metadata": {},
   "outputs": [
    {
     "data": {
      "text/plain": [
       "20"
      ]
     },
     "execution_count": 111,
     "metadata": {},
     "output_type": "execute_result"
    }
   ],
   "source": [
    "max(lista_de_numeros)"
   ]
  },
  {
   "cell_type": "markdown",
   "metadata": {},
   "source": [
    "`sum` retorna a soma de elementos de uma lista"
   ]
  },
  {
   "cell_type": "code",
   "execution_count": 112,
   "metadata": {},
   "outputs": [
    {
     "data": {
      "text/plain": [
       "37"
      ]
     },
     "execution_count": 112,
     "metadata": {},
     "output_type": "execute_result"
    }
   ],
   "source": [
    "sum(lista_de_numeros)"
   ]
  },
  {
   "cell_type": "markdown",
   "metadata": {},
   "source": [
    "### Métodos de Listas"
   ]
  },
  {
   "cell_type": "markdown",
   "metadata": {},
   "source": [
    "`list.append` modifica uma lista adicionando um item (de qualquer tipo) no final."
   ]
  },
  {
   "cell_type": "code",
   "execution_count": 15,
   "metadata": {},
   "outputs": [
    {
     "name": "stdout",
     "output_type": "stream",
     "text": [
      "['Mercúrio', 'Vênus', 'Terra', 'Marte', 'Júpiter', 'Saturno', 'Urano', 'Netuno']\n"
     ]
    }
   ],
   "source": [
    "print(planetas)"
   ]
  },
  {
   "cell_type": "code",
   "execution_count": 16,
   "metadata": {},
   "outputs": [
    {
     "name": "stdout",
     "output_type": "stream",
     "text": [
      "['Mercúrio', 'Vênus', 'Terra', 'Marte', 'Júpiter', 'Saturno', 'Urano', 'Netuno', 'Plutão']\n"
     ]
    }
   ],
   "source": [
    "planetas.append('Plutão')\n",
    "print(planetas)"
   ]
  },
  {
   "cell_type": "markdown",
   "metadata": {},
   "source": [
    "`list.pop` remove e retorna o último elemento da lista:"
   ]
  },
  {
   "cell_type": "code",
   "execution_count": 17,
   "metadata": {},
   "outputs": [
    {
     "name": "stdout",
     "output_type": "stream",
     "text": [
      "Plutão\n",
      "['Mercúrio', 'Vênus', 'Terra', 'Marte', 'Júpiter', 'Saturno', 'Urano', 'Netuno']\n"
     ]
    }
   ],
   "source": [
    "ultimo_elemento = planetas.pop()\n",
    "\n",
    "print(ultimo_elemento)\n",
    "print(planetas)"
   ]
  },
  {
   "cell_type": "markdown",
   "metadata": {},
   "source": [
    "`reverse` reverte a ordem dos elementos da lista."
   ]
  },
  {
   "cell_type": "code",
   "execution_count": 18,
   "metadata": {},
   "outputs": [
    {
     "name": "stdout",
     "output_type": "stream",
     "text": [
      "['Netuno', 'Urano', 'Saturno', 'Júpiter', 'Marte', 'Terra', 'Vênus', 'Mercúrio']\n"
     ]
    }
   ],
   "source": [
    "planetas.reverse()  # reverte os elementos dos planetas 'inplace'\n",
    "print(planetas)"
   ]
  },
  {
   "cell_type": "markdown",
   "metadata": {},
   "source": [
    "O possível problema é que a **própria lista** é revertida. <br>\n",
    "Caso você deseje ter uma **cópia revertida** da lista:"
   ]
  },
  {
   "cell_type": "code",
   "execution_count": 129,
   "metadata": {},
   "outputs": [
    {
     "name": "stdout",
     "output_type": "stream",
     "text": [
      "['Mercúrio', 'Vênus', 'Terra', 'Marte', 'Júpiter', 'Saturno', 'Urano', 'Netuno']\n",
      "['Netuno', 'Urano', 'Saturno', 'Júpiter', 'Marte', 'Terra', 'Vênus', 'Mercúrio']\n"
     ]
    }
   ],
   "source": [
    "planetas = ['Mercúrio', 'Vênus', 'Terra', 'Marte', 'Júpiter', 'Saturno', 'Urano', 'Netuno']\n",
    "\n",
    "planetas_revertidos = list(planetas)  # faz uma cópia da lista planetas\n",
    "planetas_revertidos.reverse()\n",
    "\n",
    "print(planetas)\n",
    "print(planetas_revertidos)"
   ]
  },
  {
   "cell_type": "markdown",
   "metadata": {},
   "source": [
    "#### Ordenação de listas"
   ]
  },
  {
   "cell_type": "markdown",
   "metadata": {},
   "source": [
    "`sorted` retorna uma versão **ordernada (em ordem crescente)** de uma lista (NÃO ALTERA A LISTA ATUAL)"
   ]
  },
  {
   "cell_type": "code",
   "execution_count": 132,
   "metadata": {},
   "outputs": [
    {
     "name": "stdout",
     "output_type": "stream",
     "text": [
      "[10, 5, 20, 2]\n",
      "[2, 5, 10, 20]\n"
     ]
    }
   ],
   "source": [
    "lista_de_numeros = [10, 5, 20, 2]\n",
    "lista_de_numeros_ordenada = sorted(lista_de_numeros)\n",
    "\n",
    "print(lista_de_numeros)\n",
    "print(lista_de_numeros_ordenada)"
   ]
  },
  {
   "cell_type": "code",
   "execution_count": 133,
   "metadata": {},
   "outputs": [
    {
     "name": "stdout",
     "output_type": "stream",
     "text": [
      "['Mercúrio', 'Vênus', 'Terra', 'Marte', 'Júpiter', 'Saturno', 'Urano', 'Netuno']\n",
      "['Júpiter', 'Marte', 'Mercúrio', 'Netuno', 'Saturno', 'Terra', 'Urano', 'Vênus']\n"
     ]
    }
   ],
   "source": [
    "planetas_ordem_alfabetica = sorted(planetas)\n",
    "\n",
    "print(planetas)\n",
    "print(planetas_ordem_alfabetica)"
   ]
  },
  {
   "cell_type": "markdown",
   "metadata": {},
   "source": [
    "##### Para ordernar em order descrente"
   ]
  },
  {
   "cell_type": "code",
   "execution_count": 137,
   "metadata": {},
   "outputs": [
    {
     "name": "stdout",
     "output_type": "stream",
     "text": [
      "[20, 10, 5, 2]\n"
     ]
    }
   ],
   "source": [
    "lista_de_numeros_ordem_reversa = sorted(lista_de_numeros)\n",
    "lista_de_numeros_ordem_reversa.reverse()\n",
    "print(lista_de_numeros_ordem_reversa)"
   ]
  },
  {
   "cell_type": "code",
   "execution_count": 138,
   "metadata": {},
   "outputs": [
    {
     "name": "stdout",
     "output_type": "stream",
     "text": [
      "['Vênus', 'Urano', 'Terra', 'Saturno', 'Netuno', 'Mercúrio', 'Marte', 'Júpiter']\n"
     ]
    }
   ],
   "source": [
    "planetas_ordem_alfabetica_ao_contrario = sorted(planetas)\n",
    "planetas_ordem_alfabetica_ao_contrario.reverse()\n",
    "print(planetas_ordem_alfabetica_ao_contrario)"
   ]
  },
  {
   "cell_type": "markdown",
   "metadata": {},
   "source": [
    "#### Buscando elementos em uma lista"
   ]
  },
  {
   "cell_type": "markdown",
   "metadata": {},
   "source": [
    "`list.index` retorna o índice de um dado elemento da lista, ou lança uma exception caso ele não esteja presente na lista."
   ]
  },
  {
   "cell_type": "code",
   "execution_count": 21,
   "metadata": {},
   "outputs": [],
   "source": [
    "planetas = ['Mercúrio', 'Vênus', 'Terra', 'Marte', 'Júpiter', 'Saturno', 'Urano', 'Netuno']"
   ]
  },
  {
   "cell_type": "code",
   "execution_count": 22,
   "metadata": {},
   "outputs": [
    {
     "data": {
      "text/plain": [
       "3"
      ]
     },
     "execution_count": 22,
     "metadata": {},
     "output_type": "execute_result"
    }
   ],
   "source": [
    "planetas.index('Marte')  # qual é o índice do elemento 'Marte' na lista?"
   ]
  },
  {
   "cell_type": "code",
   "execution_count": 23,
   "metadata": {},
   "outputs": [
    {
     "ename": "ValueError",
     "evalue": "'Campinas' is not in list",
     "output_type": "error",
     "traceback": [
      "\u001b[0;31m---------------------------------------------------------------------------\u001b[0m",
      "\u001b[0;31mValueError\u001b[0m                                Traceback (most recent call last)",
      "\u001b[0;32m<ipython-input-23-0185381cf20b>\u001b[0m in \u001b[0;36m<module>\u001b[0;34m\u001b[0m\n\u001b[0;32m----> 1\u001b[0;31m \u001b[0mplanetas\u001b[0m\u001b[0;34m.\u001b[0m\u001b[0mindex\u001b[0m\u001b[0;34m(\u001b[0m\u001b[0;34m'Campinas'\u001b[0m\u001b[0;34m)\u001b[0m  \u001b[0;31m# qual é o índice do elemento 'Campinas' na lista?\u001b[0m\u001b[0;34m\u001b[0m\u001b[0;34m\u001b[0m\u001b[0m\n\u001b[0m",
      "\u001b[0;31mValueError\u001b[0m: 'Campinas' is not in list"
     ]
    }
   ],
   "source": [
    "planetas.index('Campinas')  # qual é o índice do elemento 'Campinas' na lista?"
   ]
  },
  {
   "cell_type": "markdown",
   "metadata": {},
   "source": [
    "Outra alternativa melhor para saber se **uma lista contém ou não um dado elemento**, sem o lançamento de exception, é usar o `in`:"
   ]
  },
  {
   "cell_type": "code",
   "execution_count": 120,
   "metadata": {},
   "outputs": [
    {
     "data": {
      "text/plain": [
       "True"
      ]
     },
     "execution_count": 120,
     "metadata": {},
     "output_type": "execute_result"
    }
   ],
   "source": [
    "'Marte' in planetas"
   ]
  },
  {
   "cell_type": "code",
   "execution_count": 121,
   "metadata": {},
   "outputs": [
    {
     "data": {
      "text/plain": [
       "False"
      ]
     },
     "execution_count": 121,
     "metadata": {},
     "output_type": "execute_result"
    }
   ],
   "source": [
    "'Campinas' in planetas"
   ]
  },
  {
   "cell_type": "markdown",
   "metadata": {},
   "source": [
    "Podemos ainda usar o `not in` para checar se a lista **não possui um dado elemento**:"
   ]
  },
  {
   "cell_type": "code",
   "execution_count": 122,
   "metadata": {},
   "outputs": [
    {
     "data": {
      "text/plain": [
       "True"
      ]
     },
     "execution_count": 122,
     "metadata": {},
     "output_type": "execute_result"
    }
   ],
   "source": [
    "'Campinas' not in planetas"
   ]
  },
  {
   "cell_type": "markdown",
   "metadata": {},
   "source": [
    "#### Concatenando listas\n",
    "Suponha que desejamos juntar/concatenar duas listas em uma só. <br/>\n",
    "Podemos tentar usar o método `append`, pois ele adiciona um dado elemento à lista.\n",
    "Vejamos:"
   ]
  },
  {
   "cell_type": "code",
   "execution_count": 123,
   "metadata": {},
   "outputs": [
    {
     "name": "stdout",
     "output_type": "stream",
     "text": [
      "['São Paulo', 'Santo André', 'São Bernardo', 'São Caetano']\n",
      "['Campinas', 'Sumaré', 'Hortolândia']\n"
     ]
    }
   ],
   "source": [
    "cidades_grande_sp = ['São Paulo', 'Santo André', 'São Bernardo', 'São Caetano']\n",
    "cidades_interior_sp = ['Campinas', 'Sumaré', 'Hortolândia']\n",
    "\n",
    "print(cidades_grande_sp)\n",
    "print(cidades_interior_sp)"
   ]
  },
  {
   "cell_type": "code",
   "execution_count": 124,
   "metadata": {},
   "outputs": [
    {
     "name": "stdout",
     "output_type": "stream",
     "text": [
      "['São Paulo', 'Santo André', 'São Bernardo', 'São Caetano']\n"
     ]
    }
   ],
   "source": [
    "cidades_estado_sp = list(cidades_grande_sp)  # faz uma cópia da lista cidades_grande_sp\n",
    "print(cidades_do_estado_sp)"
   ]
  },
  {
   "cell_type": "code",
   "execution_count": 125,
   "metadata": {},
   "outputs": [
    {
     "name": "stdout",
     "output_type": "stream",
     "text": [
      "['São Paulo', 'Santo André', 'São Bernardo', 'São Caetano', ['Campinas', 'Sumaré', 'Hortolândia']]\n"
     ]
    }
   ],
   "source": [
    "cidades_estado_sp.append(cidades_interior_sp)  # adiciona a lista cidades_interior_sp na lista cidades_estado_sp\n",
    "print(cidades_estado_sp)"
   ]
  },
  {
   "cell_type": "markdown",
   "metadata": {},
   "source": [
    "Note que a a lista `cidades_estado_sp` tem agora alguns elementos que são _strings_, e o último elemento é uma _lista_. <br/>\n",
    "O que queremos, na verdade, é ter uma lista **apenas com _strings_**.\n",
    "\n",
    "Para isso, podemo usar o método `lista.extend(lista_2)` que vai copiar todos os elementos dentro da lista `lista_2` e colocá-los no final da lista `lista`."
   ]
  },
  {
   "cell_type": "code",
   "execution_count": 126,
   "metadata": {},
   "outputs": [
    {
     "name": "stdout",
     "output_type": "stream",
     "text": [
      "['São Paulo', 'Santo André', 'São Bernardo', 'São Caetano']\n",
      "['São Paulo', 'Santo André', 'São Bernardo', 'São Caetano', 'Campinas', 'Sumaré', 'Hortolândia']\n"
     ]
    }
   ],
   "source": [
    "cidades_estado_sp = list(cidades_grande_sp)  # faz uma cópia da lista cidades_grande_sp\n",
    "print(cidades_do_estado_sp)\n",
    "\n",
    "cidades_estado_sp.extend(cidades_interior_sp)  # copia os elementos de cidades_interior_sp e coloca no final de cidades_estado_sp\n",
    "print(cidades_estado_sp)"
   ]
  },
  {
   "cell_type": "markdown",
   "metadata": {},
   "source": [
    "### List Comprehensions\n",
    "É uma forma curta de se criar listas."
   ]
  },
  {
   "cell_type": "markdown",
   "metadata": {},
   "source": [
    "**Ex 1)** Suponha que queremos criar uma lista cujo valor do índice [i] é i^2 (o índice ao quadrado). <br/>\n",
    "Uma forma padrão seria:"
   ]
  },
  {
   "cell_type": "code",
   "execution_count": 140,
   "metadata": {},
   "outputs": [
    {
     "name": "stdout",
     "output_type": "stream",
     "text": [
      "[0, 1, 4, 9, 16, 25, 36, 49, 64, 81]\n"
     ]
    }
   ],
   "source": [
    "quadrados = []\n",
    "for i in range(10):\n",
    "    quadrados.append(i**2)\n",
    "\n",
    "print(quadrados)"
   ]
  },
  {
   "cell_type": "markdown",
   "metadata": {},
   "source": [
    "Usando o **list comprehensions**:"
   ]
  },
  {
   "cell_type": "code",
   "execution_count": 24,
   "metadata": {},
   "outputs": [
    {
     "name": "stdout",
     "output_type": "stream",
     "text": [
      "[0, 1, 4, 9, 16, 25, 36, 49, 64, 81]\n"
     ]
    }
   ],
   "source": [
    "quadrados = [i**2 for i in range(10)]\n",
    "print(quadrados)"
   ]
  },
  {
   "cell_type": "markdown",
   "metadata": {},
   "source": [
    "**Ex 2)** Filtrando os elementos negativos de uma lista:"
   ]
  },
  {
   "cell_type": "code",
   "execution_count": 25,
   "metadata": {},
   "outputs": [
    {
     "name": "stdout",
     "output_type": "stream",
     "text": [
      "[10, 25, 99, 1]\n"
     ]
    }
   ],
   "source": [
    "lista_de_numeros = [10, -2, 25, -5, 99, 1]\n",
    "\n",
    "lista_de_numeros_positivos = [num for num in lista_de_numeros if num > 0]\n",
    "print(lista_de_numeros_positivos)"
   ]
  },
  {
   "cell_type": "markdown",
   "metadata": {},
   "source": [
    "Outra maneira de aplicar funções a listas é usar **lambda functions**, que é assunto para depois!"
   ]
  }
 ],
 "metadata": {
  "kernelspec": {
   "display_name": "Python 3",
   "language": "python",
   "name": "python3"
  },
  "language_info": {
   "codemirror_mode": {
    "name": "ipython",
    "version": 3
   },
   "file_extension": ".py",
   "mimetype": "text/x-python",
   "name": "python",
   "nbconvert_exporter": "python",
   "pygments_lexer": "ipython3",
   "version": "3.9.0"
  }
 },
 "nbformat": 4,
 "nbformat_minor": 4
}
