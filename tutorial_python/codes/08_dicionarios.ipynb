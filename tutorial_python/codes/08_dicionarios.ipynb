{
 "cells": [
  {
   "cell_type": "markdown",
   "metadata": {},
   "source": [
    "## Dicionários (tabelas hash)\n",
    "Dicionários são tabelas hash: estruturas que mapeiams _chaves_ à _valores_. <br/>\n",
    "Muito utilizado quando queremos **acesso rápido** (_O(1)_) a elementos/valores associados a uma dada chave."
   ]
  },
  {
   "cell_type": "markdown",
   "metadata": {},
   "source": [
    "#### Checando se um dicionário possui uma dada chave"
   ]
  },
  {
   "cell_type": "markdown",
   "metadata": {},
   "source": [
    "#### For-each em Dicionários"
   ]
  },
  {
   "cell_type": "markdown",
   "metadata": {},
   "source": [
    "#### Dictionary Comprehensions"
   ]
  },
  {
   "cell_type": "code",
   "execution_count": 66,
   "metadata": {},
   "outputs": [
    {
     "name": "stdout",
     "output_type": "stream",
     "text": [
      "{'Mercúrio': 'M', 'Vênus': 'V', 'Terra': 'T', 'Marte': 'M', 'Júpiter': 'J', 'Saturno': 'S', 'Urano': 'U', 'Netuno': 'N'}\n"
     ]
    }
   ],
   "source": [
    "planetas = ['Mercúrio', 'Vênus', 'Terra', 'Marte', 'Júpiter', 'Saturno', 'Urano', 'Netuno']\n",
    "\n",
    "iniciais_dos_planetas = {planeta: planeta[0] for planeta in planetas}  # cada planeta será uma chave e sua inicial será seu valor\n",
    "print(iniciais_dos_planetas)"
   ]
  }
 ],
 "metadata": {
  "kernelspec": {
   "display_name": "Python 3",
   "language": "python",
   "name": "python3"
  },
  "language_info": {
   "codemirror_mode": {
    "name": "ipython",
    "version": 3
   },
   "file_extension": ".py",
   "mimetype": "text/x-python",
   "name": "python",
   "nbconvert_exporter": "python",
   "pygments_lexer": "ipython3",
   "version": "3.9.0"
  }
 },
 "nbformat": 4,
 "nbformat_minor": 4
}
